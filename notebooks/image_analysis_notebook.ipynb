{
 "cells": [
  {
   "metadata": {
    "jupyter": {
     "is_executing": true
    }
   },
   "cell_type": "code",
   "source": [
    "import requests\n",
    "from PIL import Image\n",
    "from io import BytesIO\n",
    "import json\n",
    "\n",
    "# Define API base URL\n",
    "BASE_URL = \"http://localhost:8000/api/v1\"\n",
    "\n",
    "# 1. Upload an image\n",
    "def upload_image(image_path):\n",
    "    url = f\"{BASE_URL}/image/upload/\"\n",
    "    files = {\"file\": open(image_path, \"rb\")}\n",
    "    response = requests.post(url, files=files)\n",
    "    return response.json()\n",
    "\n",
    "# 2. Fetch image metadata\n",
    "def get_metadata(image_id):\n",
    "    url = f\"{BASE_URL}/image/metadata/{image_id}\"\n",
    "    response = requests.get(url)\n",
    "    return response.json()\n",
    "\n",
    "# 3. Request PCA analysis\n",
    "def request_pca(image_id):\n",
    "    url = f\"{BASE_URL}/image/pca/{image_id}\"\n",
    "    response = requests.post(url)\n",
    "    return response.json()\n",
    "\n",
    "# 4. Retrieve image processing results\n",
    "def get_results(image_id):\n",
    "    url = f\"{BASE_URL}/image/results/{image_id}\"\n",
    "    response = requests.get(url)\n",
    "    return response.json()\n",
    "\n",
    "# Sample usage\n",
    "image_path = \"sample_image.jpg\"  # Provide a valid image path\n",
    "upload_response = upload_image(image_path)\n",
    "print(\"Upload Response:\", json.dumps(upload_response, indent=4))\n",
    "\n",
    "if \"image_id\" in upload_response:\n",
    "    image_id = upload_response[\"image_id\"]\n",
    "    metadata = get_metadata(image_id)\n",
    "    print(\"Metadata:\", json.dumps(metadata, indent=4))\n",
    "    \n",
    "    pca_response = request_pca(image_id)\n",
    "    print(\"PCA Request Response:\", json.dumps(pca_response, indent=4))\n",
    "    \n",
    "    results = get_results(image_id)\n",
    "    print(\"Processing Results:\", json.dumps(results, indent=4))\n"
   ],
   "id": "517cb37c79f7e2d1",
   "outputs": [],
   "execution_count": null
  },
  {
   "metadata": {},
   "cell_type": "code",
   "outputs": [],
   "execution_count": null,
   "source": "",
   "id": "5505df2338236906"
  }
 ],
 "metadata": {},
 "nbformat": 5,
 "nbformat_minor": 9
}
